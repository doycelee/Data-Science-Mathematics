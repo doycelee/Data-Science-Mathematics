{
 "cells": [
  {
   "cell_type": "markdown",
   "metadata": {},
   "source": [
    "## Introduction to Python 2 \n",
    "\n",
    "This next session is going to build from the basics we saw in our last session. We ended by learning some simple operations on strings. We also learned about the different variable types and writing simple functions. \n",
    "\n",
    "### Booleans\n",
    "\n",
    "The Boolean is represented with the values True and False. It has all sorts of practical usage, be it unit testing or creating a label vector with some binary condition. Lets look at some comparison expressions using python. We look at three comparisons. We denote equality using double equal sign == \n",
    "\n",
    "We will also look at a case where we define values to some global variables and examine if the comparison is true or false using an IF ELSE statement. We will examine loop types later but on a high level, if else says if condition 1 is met then do this otherwise do something else. "
   ]
  },
  {
   "cell_type": "code",
   "execution_count": 1,
   "metadata": {
    "collapsed": false
   },
   "outputs": [
    {
     "name": "stdout",
     "output_type": "stream",
     "text": [
      "True\n",
      "False\n",
      "False\n"
     ]
    }
   ],
   "source": [
    "print(10>9)\n",
    "\n",
    "print(10==9)\n",
    "\n",
    "print(10<9)"
   ]
  },
  {
   "cell_type": "code",
   "execution_count": 2,
   "metadata": {
    "collapsed": false
   },
   "outputs": [
    {
     "name": "stdout",
     "output_type": "stream",
     "text": [
      "b is greater than a \n"
     ]
    }
   ],
   "source": [
    "a=200\n",
    "\n",
    "b=800 \n",
    "\n",
    "if b>a:\n",
    "    \n",
    "    print(\"b is greater than a \")\n",
    "    \n",
    "else:\n",
    "        \n",
    "    print(\"b is not greater than a\")"
   ]
  },
  {
   "cell_type": "markdown",
   "metadata": {
    "collapsed": true
   },
   "source": [
    "Now that we have looked at an overview of some of the things we can do in python, lets solve some problems while introducing new base functions. Lets examine some of the iteration techniques that will be useful for performing large scale operations on data. \n",
    "\n",
    "## For Loops \n",
    "\n",
    "\n",
    "The for loop is used to iterate over a sequence defined to be a list, tuple, dictionary, or string. In other words, we are telling our program to go through each element or row and perform some operation. Lets create a list of animals to a variable and try some for loop examples. \n"
   ]
  },
  {
   "cell_type": "code",
   "execution_count": 3,
   "metadata": {
    "collapsed": false
   },
   "outputs": [
    {
     "data": {
      "text/plain": [
       "7"
      ]
     },
     "execution_count": 3,
     "metadata": {},
     "output_type": "execute_result"
    }
   ],
   "source": [
    "animals=['cat','dog','crouching tiger','hidden dragon','manta ray', 'parrot','fox']\n",
    "\n",
    "len(animals)"
   ]
  },
  {
   "cell_type": "markdown",
   "metadata": {},
   "source": [
    "We save five elements from our list. We confirm the number of elements in our list by using the len() function. Now we are going to write a loop that tells our program to print each item in our list one by one. Our loop will iterate through an index number (which we will find using range() ) . We will also save the output of len() to a variable named len_animals."
   ]
  },
  {
   "cell_type": "code",
   "execution_count": 4,
   "metadata": {
    "collapsed": false
   },
   "outputs": [
    {
     "name": "stdout",
     "output_type": "stream",
     "text": [
      "cat is an animal\n",
      "dog is an animal\n",
      "crouching tiger is an animal\n",
      "hidden dragon is an animal\n",
      "manta ray is an animal\n",
      "parrot is an animal\n",
      "fox is an animal\n"
     ]
    }
   ],
   "source": [
    "len_animals=len(animals)\n",
    "\n",
    "for i in range(len_animals):\n",
    "    \n",
    "    animal=animals[i]\n",
    "    \n",
    "    print(animal + \" is an animal\")"
   ]
  },
  {
   "cell_type": "code",
   "execution_count": 5,
   "metadata": {
    "collapsed": false
   },
   "outputs": [
    {
     "name": "stdout",
     "output_type": "stream",
     "text": [
      "cat is an animal\n",
      "dog is an animal\n",
      "crouching tiger is an animal\n",
      "hidden dragon is an animal\n",
      "manta ray is an animal\n",
      "parrot is an animal\n",
      "fox is an animal\n"
     ]
    }
   ],
   "source": [
    "for i in range(len_animals):\n",
    "    \n",
    "    animal=animals[i]\n",
    "    \n",
    "    print(animal + \" is an animal\")"
   ]
  },
  {
   "cell_type": "markdown",
   "metadata": {},
   "source": [
    "We are saving the value for the length of the list in a variable called len_animals. We call this value back in the range function when we specify the index. In other words, our for loop knows that it should iterate from the element at index zero to index in range(5 times). Inside the for loop, we define animal=animals[i] where i is a filler that will be replaced with every index value until it reaches the range. In other words we will loop through index 1-5 instead of doing animals[1], animals[2],...up to animals[5]. Finally the last part is simply to define the output. In our case, the output is to print the element from each index and append an additional messsage. \n",
    "\n",
    "Lets save our for loop in a function. "
   ]
  },
  {
   "cell_type": "code",
   "execution_count": 6,
   "metadata": {
    "collapsed": true
   },
   "outputs": [],
   "source": [
    "def animal_fun(): \n",
    "    \n",
    "    for i in range(len_animals):\n",
    "        \n",
    "        animal=animals[i]\n",
    "        \n",
    "        new_animals = print(animal + \" is an animal\")\n",
    "    \n",
    "        #return "
   ]
  },
  {
   "cell_type": "code",
   "execution_count": 7,
   "metadata": {
    "collapsed": false
   },
   "outputs": [
    {
     "name": "stdout",
     "output_type": "stream",
     "text": [
      "cat is an animal\n",
      "dog is an animal\n",
      "crouching tiger is an animal\n",
      "hidden dragon is an animal\n",
      "manta ray is an animal\n",
      "parrot is an animal\n",
      "fox is an animal\n"
     ]
    }
   ],
   "source": [
    "animal_fun()"
   ]
  },
  {
   "cell_type": "markdown",
   "metadata": {},
   "source": [
    "You may observe that I have the return keyword blocked out at the end of my function. The return statement stops any iterations surrounded in the for loop. We do not need it yet for these basic examples but soon, we will be including it. Lets add more elements into our loop. The break function stops iteration once a certain element or condition is achieved in the iteration process. \n",
    "\n",
    "This problem is going to ask us to create a list of fruits. Within our iteration, we are going to tell our for loop to terminate once the value \"cherry\" is reached. "
   ]
  },
  {
   "cell_type": "code",
   "execution_count": 8,
   "metadata": {
    "collapsed": false
   },
   "outputs": [
    {
     "name": "stdout",
     "output_type": "stream",
     "text": [
      "apple\n",
      "cherry\n"
     ]
    }
   ],
   "source": [
    "fruits=['apple', 'cherry', 'banana']\n",
    "\n",
    "for i in fruits:\n",
    "    \n",
    "    print(i)\n",
    "    \n",
    "    if i==\"cherry\":\n",
    "        \n",
    "        break"
   ]
  },
  {
   "cell_type": "markdown",
   "metadata": {
    "collapsed": true
   },
   "source": [
    "## Adding Else \n",
    "\n",
    "The else statement can be added within our for loops. The else statement is going to tell the program to to run some code after the loop has finished running."
   ]
  },
  {
   "cell_type": "code",
   "execution_count": 9,
   "metadata": {
    "collapsed": false
   },
   "outputs": [
    {
     "name": "stdout",
     "output_type": "stream",
     "text": [
      "apple\n",
      "cherry\n",
      "banana\n",
      "The code finished running!\n"
     ]
    }
   ],
   "source": [
    "for i in fruits:\n",
    "    \n",
    "    print(i)\n",
    "    \n",
    "else: \n",
    "    \n",
    "    print(\"The code finished running!\")"
   ]
  },
  {
   "cell_type": "markdown",
   "metadata": {},
   "source": [
    "## While Statement \n",
    "\n",
    "The while loop allows us to run some code as long as some defined condition is true. "
   ]
  },
  {
   "cell_type": "code",
   "execution_count": 11,
   "metadata": {
    "collapsed": false
   },
   "outputs": [
    {
     "name": "stdout",
     "output_type": "stream",
     "text": [
      "1\n",
      "2\n",
      "3\n",
      "4\n",
      "5\n"
     ]
    }
   ],
   "source": [
    "i=1 \n",
    "\n",
    "while i<6:\n",
    "    \n",
    "    print(i)\n",
    "    \n",
    "    i+=1 ## This tells the program to iterate over intervals of one until the condition is breached. In our case i being less than 6. \n",
    "    ## If we do not include this, the program will run forever because we will create an infinite print of 1's. "
   ]
  },
  {
   "cell_type": "markdown",
   "metadata": {},
   "source": [
    "Lets take some of the concepts we learned and work on some practice problems before we add on additional concepts. \n",
    "\n",
    "ex 1) Write a function that will compute n factorial using recursion (calling its self) and return the solution. Assume our input only consists of integers. "
   ]
  },
  {
   "cell_type": "code",
   "execution_count": 12,
   "metadata": {
    "collapsed": true
   },
   "outputs": [],
   "source": [
    "def my_factorial(n): #start by defining your function with some arbitrarty name and some input variable n\n",
    "    \n",
    "    if n < 1:  #Define the base case (If the input is less than 1 , then return the value 1)\n",
    "        \n",
    "        return 1 \n",
    "    \n",
    "    else: \n",
    "        \n",
    "        returnNumber=n*my_factorial(n-1) #let the function call its self to compute factorial n(n-1)(n-2)...\n",
    "        #In other words if  input is 5, we will multiply 5*4, then loop again and multiply 5*4*3...and so forth till n is less than 1\n",
    "        \n",
    "    print(returnNumber) #print all previous factorials before the final number \n",
    "    \n",
    "    return returnNumber #return the final calculated number "
   ]
  },
  {
   "cell_type": "code",
   "execution_count": 13,
   "metadata": {
    "collapsed": false
   },
   "outputs": [
    {
     "name": "stdout",
     "output_type": "stream",
     "text": [
      "1\n",
      "2\n",
      "6\n",
      "24\n",
      "120\n",
      "720\n",
      "5040\n",
      "40320\n",
      "362880\n",
      "3628800\n"
     ]
    },
    {
     "data": {
      "text/plain": [
       "3628800"
      ]
     },
     "execution_count": 13,
     "metadata": {},
     "output_type": "execute_result"
    }
   ],
   "source": [
    "n=10\n",
    "\n",
    "my_factorial(n)"
   ]
  },
  {
   "cell_type": "code",
   "execution_count": 14,
   "metadata": {
    "collapsed": false
   },
   "outputs": [
    {
     "name": "stdout",
     "output_type": "stream",
     "text": [
      "1\n",
      "2\n",
      "6\n",
      "24\n",
      "120\n",
      "720\n",
      "5040\n",
      "40320\n",
      "362880\n",
      "3628800\n",
      "39916800\n",
      "479001600\n",
      "6227020800\n",
      "87178291200\n",
      "1307674368000\n",
      "20922789888000\n",
      "355687428096000\n",
      "6402373705728000\n",
      "121645100408832000\n"
     ]
    },
    {
     "data": {
      "text/plain": [
       "121645100408832000"
      ]
     },
     "execution_count": 14,
     "metadata": {},
     "output_type": "execute_result"
    }
   ],
   "source": [
    "n=19\n",
    "\n",
    "my_factorial(n)"
   ]
  },
  {
   "cell_type": "markdown",
   "metadata": {},
   "source": [
    "## Using Dummy Data\n",
    "\n",
    "We examined some basic examples of how to use loops. Lets start applying these concepts to realisitc looking data. We are going to use the pandas module to create some dummy data in the form of a spreadsheet and then perform some operations on this spreadsheet. We will be using pandas to create the dummy data, however as we move along in our course, we will be using pandas much more functionally. "
   ]
  },
  {
   "cell_type": "code",
   "execution_count": 15,
   "metadata": {
    "collapsed": true
   },
   "outputs": [],
   "source": [
    "import pandas as pd #bring in pandas module and assign it an alias \n",
    "\n",
    "data=pd.DataFrame({\"Name\":[\"John\",\"Deep\",\"Julia\", \"Kate\", \"Sandy\"], \"MonthlySales\" : [25,30,35,40,45]}) #Use a dictionary \n",
    "#to define two columns, name and sales "
   ]
  },
  {
   "cell_type": "code",
   "execution_count": 16,
   "metadata": {
    "collapsed": false
   },
   "outputs": [
    {
     "data": {
      "text/html": [
       "<div>\n",
       "<table border=\"1\" class=\"dataframe\">\n",
       "  <thead>\n",
       "    <tr style=\"text-align: right;\">\n",
       "      <th></th>\n",
       "      <th>MonthlySales</th>\n",
       "      <th>Name</th>\n",
       "    </tr>\n",
       "  </thead>\n",
       "  <tbody>\n",
       "    <tr>\n",
       "      <th>0</th>\n",
       "      <td>25</td>\n",
       "      <td>John</td>\n",
       "    </tr>\n",
       "    <tr>\n",
       "      <th>1</th>\n",
       "      <td>30</td>\n",
       "      <td>Deep</td>\n",
       "    </tr>\n",
       "    <tr>\n",
       "      <th>2</th>\n",
       "      <td>35</td>\n",
       "      <td>Julia</td>\n",
       "    </tr>\n",
       "    <tr>\n",
       "      <th>3</th>\n",
       "      <td>40</td>\n",
       "      <td>Kate</td>\n",
       "    </tr>\n",
       "    <tr>\n",
       "      <th>4</th>\n",
       "      <td>45</td>\n",
       "      <td>Sandy</td>\n",
       "    </tr>\n",
       "  </tbody>\n",
       "</table>\n",
       "</div>"
      ],
      "text/plain": [
       "   MonthlySales   Name\n",
       "0            25   John\n",
       "1            30   Deep\n",
       "2            35  Julia\n",
       "3            40   Kate\n",
       "4            45  Sandy"
      ]
     },
     "execution_count": 16,
     "metadata": {},
     "output_type": "execute_result"
    }
   ],
   "source": [
    "data.head() #View our dummy data "
   ]
  },
  {
   "cell_type": "markdown",
   "metadata": {},
   "source": [
    "Lets say that every person has a quota of 50 sales a month. Lets iterate through this list to create a new column called \"PendingSales\" that computes 50 - MonthlySales. Please note that this is certainly something we can do in SQL, however you will get to see that we can do the same thing in python using maybe a line or two. "
   ]
  },
  {
   "cell_type": "code",
   "execution_count": 17,
   "metadata": {
    "collapsed": false
   },
   "outputs": [
    {
     "data": {
      "text/html": [
       "<div>\n",
       "<table border=\"1\" class=\"dataframe\">\n",
       "  <thead>\n",
       "    <tr style=\"text-align: right;\">\n",
       "      <th></th>\n",
       "      <th>MonthlySales</th>\n",
       "      <th>Name</th>\n",
       "      <th>PendingSales</th>\n",
       "    </tr>\n",
       "  </thead>\n",
       "  <tbody>\n",
       "    <tr>\n",
       "      <th>0</th>\n",
       "      <td>25</td>\n",
       "      <td>John</td>\n",
       "      <td>25</td>\n",
       "    </tr>\n",
       "    <tr>\n",
       "      <th>1</th>\n",
       "      <td>30</td>\n",
       "      <td>Deep</td>\n",
       "      <td>20</td>\n",
       "    </tr>\n",
       "    <tr>\n",
       "      <th>2</th>\n",
       "      <td>35</td>\n",
       "      <td>Julia</td>\n",
       "      <td>15</td>\n",
       "    </tr>\n",
       "    <tr>\n",
       "      <th>3</th>\n",
       "      <td>40</td>\n",
       "      <td>Kate</td>\n",
       "      <td>10</td>\n",
       "    </tr>\n",
       "    <tr>\n",
       "      <th>4</th>\n",
       "      <td>45</td>\n",
       "      <td>Sandy</td>\n",
       "      <td>5</td>\n",
       "    </tr>\n",
       "  </tbody>\n",
       "</table>\n",
       "</div>"
      ],
      "text/plain": [
       "   MonthlySales   Name  PendingSales\n",
       "0            25   John            25\n",
       "1            30   Deep            20\n",
       "2            35  Julia            15\n",
       "3            40   Kate            10\n",
       "4            45  Sandy             5"
      ]
     },
     "execution_count": 17,
     "metadata": {},
     "output_type": "execute_result"
    }
   ],
   "source": [
    "data['PendingSales']=50-data['MonthlySales'] #define new column on left side, perform operation on right side \n",
    "\n",
    "data.head() #view new data "
   ]
  },
  {
   "cell_type": "markdown",
   "metadata": {},
   "source": [
    "We can also perform operations on our data using loops. Lets write a loop that will go through each entry in our dummy data and check if pending sales is less than 5, then print a message for that person that says \"on track\" otherwise \"not on track\". We will call this new column \"status.\" We will be using elif. Elif is a useful looping tool that checks the expression specified in the loop and writing some operation as a result. It is sort of a short cut to extend operations in an if statement. "
   ]
  },
  {
   "cell_type": "code",
   "execution_count": 20,
   "metadata": {
    "collapsed": true
   },
   "outputs": [],
   "source": [
    "status=[] #initialize the new column to collect the entries based on conditions in loops, we append this to data in loop\n",
    "\n",
    "for x in data[\"PendingSales\"]: #for all values in pending sales column...\n",
    "    \n",
    "    if x <= 5: #if x is less than or equal to 5, then person is on track\n",
    "        \n",
    "        status.append(\"OnTrack\") #append on track in new column for people who meet condition \n",
    "        \n",
    "    elif x>5: #else if sales pending is greater than 5, then person is not on track \n",
    "        \n",
    "        status.append(\"NotOnTrack\") #append not on track in new column for people who meet other criteria \n",
    "        \n",
    "data[\"status\"]=status #grab the status entries we collected in the start and add them as new column to data frame "
   ]
  },
  {
   "cell_type": "code",
   "execution_count": 21,
   "metadata": {
    "collapsed": false
   },
   "outputs": [
    {
     "data": {
      "text/html": [
       "<div>\n",
       "<table border=\"1\" class=\"dataframe\">\n",
       "  <thead>\n",
       "    <tr style=\"text-align: right;\">\n",
       "      <th></th>\n",
       "      <th>MonthlySales</th>\n",
       "      <th>Name</th>\n",
       "      <th>PendingSales</th>\n",
       "      <th>status</th>\n",
       "    </tr>\n",
       "  </thead>\n",
       "  <tbody>\n",
       "    <tr>\n",
       "      <th>0</th>\n",
       "      <td>25</td>\n",
       "      <td>John</td>\n",
       "      <td>25</td>\n",
       "      <td>NotOnTrack</td>\n",
       "    </tr>\n",
       "    <tr>\n",
       "      <th>1</th>\n",
       "      <td>30</td>\n",
       "      <td>Deep</td>\n",
       "      <td>20</td>\n",
       "      <td>NotOnTrack</td>\n",
       "    </tr>\n",
       "    <tr>\n",
       "      <th>2</th>\n",
       "      <td>35</td>\n",
       "      <td>Julia</td>\n",
       "      <td>15</td>\n",
       "      <td>NotOnTrack</td>\n",
       "    </tr>\n",
       "    <tr>\n",
       "      <th>3</th>\n",
       "      <td>40</td>\n",
       "      <td>Kate</td>\n",
       "      <td>10</td>\n",
       "      <td>NotOnTrack</td>\n",
       "    </tr>\n",
       "    <tr>\n",
       "      <th>4</th>\n",
       "      <td>45</td>\n",
       "      <td>Sandy</td>\n",
       "      <td>5</td>\n",
       "      <td>OnTrack</td>\n",
       "    </tr>\n",
       "  </tbody>\n",
       "</table>\n",
       "</div>"
      ],
      "text/plain": [
       "   MonthlySales   Name  PendingSales      status\n",
       "0            25   John            25  NotOnTrack\n",
       "1            30   Deep            20  NotOnTrack\n",
       "2            35  Julia            15  NotOnTrack\n",
       "3            40   Kate            10  NotOnTrack\n",
       "4            45  Sandy             5     OnTrack"
      ]
     },
     "execution_count": 21,
     "metadata": {},
     "output_type": "execute_result"
    }
   ],
   "source": [
    "data.head()"
   ]
  },
  {
   "cell_type": "code",
   "execution_count": null,
   "metadata": {
    "collapsed": true
   },
   "outputs": [],
   "source": []
  }
 ],
 "metadata": {
  "kernelspec": {
   "display_name": "Python 3",
   "language": "python",
   "name": "python3"
  },
  "language_info": {
   "codemirror_mode": {
    "name": "ipython",
    "version": 3
   },
   "file_extension": ".py",
   "mimetype": "text/x-python",
   "name": "python",
   "nbconvert_exporter": "python",
   "pygments_lexer": "ipython3",
   "version": "3.5.1"
  }
 },
 "nbformat": 4,
 "nbformat_minor": 0
}
