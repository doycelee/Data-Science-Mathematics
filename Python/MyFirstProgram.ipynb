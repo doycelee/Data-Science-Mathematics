{
 "cells": [
  {
   "cell_type": "markdown",
   "metadata": {},
   "source": [
    "## Introduction to Python, Session 1\n",
    "\n",
    "These sessions will introduce you to the python library through the use of examples and \"Do it yourself\" problems. We will be conducting these sessions using jupyter notebooks. Jupyter notebooks are a great place to learn python and keep notes all in one place. The first few sessions will not require outside packages. We will start with the very basics. "
   ]
  },
  {
   "cell_type": "markdown",
   "metadata": {},
   "source": [
    "### The Easiest Programs You will ever write\n",
    "\n",
    "Lets start with the \"Hello World\" program. It is simply a program that prints the words \"hello world\" \n"
   ]
  },
  {
   "cell_type": "code",
   "execution_count": 2,
   "metadata": {
    "collapsed": false
   },
   "outputs": [
    {
     "name": "stdout",
     "output_type": "stream",
     "text": [
      "Hello World\n"
     ]
    }
   ],
   "source": [
    "print(\"Hello World\")"
   ]
  },
  {
   "cell_type": "markdown",
   "metadata": {},
   "source": [
    "Lets try another. Lets write a simple program that verifies if one quantity is greater than another quantity. If the condition is indeed true, then lets print out some message that communicates that relationship. The number of spaces between the top line and bottom line is totally up to you, however it is imperative that when writing a program, the following line must be indented. The program will not run otherwise. "
   ]
  },
  {
   "cell_type": "code",
   "execution_count": 4,
   "metadata": {
    "collapsed": false
   },
   "outputs": [
    {
     "name": "stdout",
     "output_type": "stream",
     "text": [
      "Five is greater than two\n"
     ]
    }
   ],
   "source": [
    "if 5>2:\n",
    "    \n",
    "    print(\"Five is greater than two\")"
   ]
  },
  {
   "cell_type": "markdown",
   "metadata": {},
   "source": [
    "### Variables \n",
    "\n",
    "Python variables are created the moment the user defines them. We can store numbers and strings into variables and then call on these variables to perform operations on them. Lets define some variables. We are going to save an integer, a string, and a float into a variable. Lest print the values out to see what they are. "
   ]
  },
  {
   "cell_type": "code",
   "execution_count": 14,
   "metadata": {
    "collapsed": true
   },
   "outputs": [],
   "source": [
    "x=5\n",
    "\n",
    "y=\"Hello\"\n",
    "\n",
    "z=0.56"
   ]
  },
  {
   "cell_type": "code",
   "execution_count": 15,
   "metadata": {
    "collapsed": false
   },
   "outputs": [
    {
     "name": "stdout",
     "output_type": "stream",
     "text": [
      "5\n",
      "Hello\n",
      "0.56\n"
     ]
    }
   ],
   "source": [
    "print(x)\n",
    "print(y)\n",
    "print(z)"
   ]
  },
  {
   "cell_type": "markdown",
   "metadata": {},
   "source": [
    "It is also possible to overwrite variables by re defining them different values. Lets re-define one of the variables we created above. "
   ]
  },
  {
   "cell_type": "code",
   "execution_count": 16,
   "metadata": {
    "collapsed": false
   },
   "outputs": [
    {
     "name": "stdout",
     "output_type": "stream",
     "text": [
      "hello , part2\n"
     ]
    }
   ],
   "source": [
    "x=\"hello , part2\"\n",
    "\n",
    "print(x)"
   ]
  },
  {
   "cell_type": "markdown",
   "metadata": {},
   "source": [
    "There are a few requirements for variables. Variable names must have the following:\n",
    "\n",
    "* A variable name must start with a letter or underscore\n",
    "* A variable name cannot start with a number \n",
    "* A variable name can only contain alpha-numeric characters and underscores \n",
    "* variable names are case sensitive\n",
    "\n",
    "We also have the ability to bulk define several variables in one line as follows:"
   ]
  },
  {
   "cell_type": "code",
   "execution_count": 17,
   "metadata": {
    "collapsed": false
   },
   "outputs": [
    {
     "name": "stdout",
     "output_type": "stream",
     "text": [
      "Orange\n",
      "Banana\n",
      "Cherry\n"
     ]
    }
   ],
   "source": [
    "x, y, z=\"Orange\",\"Banana\",\"Cherry\"\n",
    "print(x)\n",
    "print(y)\n",
    "print(z)"
   ]
  },
  {
   "cell_type": "markdown",
   "metadata": {},
   "source": [
    "We can also assign the same value to different variables in one line as shown: "
   ]
  },
  {
   "cell_type": "code",
   "execution_count": 18,
   "metadata": {
    "collapsed": false
   },
   "outputs": [
    {
     "name": "stdout",
     "output_type": "stream",
     "text": [
      "Hello, part 3\n",
      "Hello, part 3\n",
      "Hello, part 3\n"
     ]
    }
   ],
   "source": [
    "x=y=z=\"Hello, part 3\"\n",
    "\n",
    "print(x)\n",
    "print(y)\n",
    "print(z)"
   ]
  },
  {
   "cell_type": "markdown",
   "metadata": {},
   "source": [
    "We can do some more cool things with the print function such as adding additional information to  what is actually getting printed."
   ]
  },
  {
   "cell_type": "code",
   "execution_count": 20,
   "metadata": {
    "collapsed": false
   },
   "outputs": [
    {
     "name": "stdout",
     "output_type": "stream",
     "text": [
      "Python is awesome\n"
     ]
    }
   ],
   "source": [
    "x=\"awesome\"\n",
    "\n",
    "print(\"Python is \" + x)"
   ]
  },
  {
   "cell_type": "markdown",
   "metadata": {},
   "source": [
    "Now using variables:\n",
    "Lets use a string example and a numeric example "
   ]
  },
  {
   "cell_type": "code",
   "execution_count": 23,
   "metadata": {
    "collapsed": false
   },
   "outputs": [
    {
     "name": "stdout",
     "output_type": "stream",
     "text": [
      "Python Is Awesome\n"
     ]
    }
   ],
   "source": [
    "x=\"Python\"\n",
    "\n",
    "y=\" Is\"\n",
    "\n",
    "z=\" Awesome\"\n",
    "\n",
    "g=x+y+z\n",
    "\n",
    "print(g)"
   ]
  },
  {
   "cell_type": "code",
   "execution_count": 24,
   "metadata": {
    "collapsed": false
   },
   "outputs": [
    {
     "name": "stdout",
     "output_type": "stream",
     "text": [
      "12\n"
     ]
    }
   ],
   "source": [
    "x= 5\n",
    "\n",
    "y=4\n",
    "\n",
    "z=3\n",
    "\n",
    "g=x+y+z\n",
    "\n",
    "print(g)"
   ]
  },
  {
   "cell_type": "code",
   "execution_count": 25,
   "metadata": {
    "collapsed": false
   },
   "outputs": [
    {
     "name": "stdout",
     "output_type": "stream",
     "text": [
      "12\n"
     ]
    }
   ],
   "source": [
    "print(x+y+z)"
   ]
  },
  {
   "cell_type": "markdown",
   "metadata": {},
   "source": [
    "### Global Variables \n",
    "\n",
    "\n",
    "Global variables are variables that are defined outside of a function. From our math sessions, we know that functions take in some input and produce some output. A function follows the same foundations learned in mathematics. Lets define a global variable and write a simple function. Al' functions start off with the command \"Def\" followed by the name you want to assign the function with closed brackets followed by  : \n"
   ]
  },
  {
   "cell_type": "code",
   "execution_count": 26,
   "metadata": {
    "collapsed": false
   },
   "outputs": [
    {
     "name": "stdout",
     "output_type": "stream",
     "text": [
      "Python is awesome\n"
     ]
    }
   ],
   "source": [
    "x=\"awesome\"\n",
    "\n",
    "def my_first_function():\n",
    "    \n",
    "    print(\"Python is \" + x)\n",
    "    \n",
    "my_first_function()"
   ]
  },
  {
   "cell_type": "markdown",
   "metadata": {},
   "source": [
    "If you define a variable inside the function of the same name as a global function, then this variable will be local and can only be used on the inside of a function. You are able to write over functions the same way you write over variables. "
   ]
  },
  {
   "cell_type": "code",
   "execution_count": 28,
   "metadata": {
    "collapsed": false
   },
   "outputs": [
    {
     "name": "stdout",
     "output_type": "stream",
     "text": [
      "Python is fantastic\n",
      "Python is awesome\n"
     ]
    }
   ],
   "source": [
    "x=\"awesome\"\n",
    "\n",
    "def my_first_function():\n",
    "    \n",
    "    x=\"fantastic\"\n",
    "    \n",
    "    print(\"Python is \" + x)\n",
    "    \n",
    "my_first_function()\n",
    "\n",
    "print(\"Python is \" +x)"
   ]
  },
  {
   "cell_type": "markdown",
   "metadata": {},
   "source": [
    "If you need to create a global variable inside of a function, you can do that using the global command. "
   ]
  },
  {
   "cell_type": "code",
   "execution_count": 30,
   "metadata": {
    "collapsed": false
   },
   "outputs": [
    {
     "name": "stdout",
     "output_type": "stream",
     "text": [
      "Python is fantastic\n",
      "Python is fantastic\n"
     ]
    }
   ],
   "source": [
    "def my_first_function():\n",
    "    \n",
    "    global x\n",
    "    \n",
    "    x=\"fantastic\"\n",
    "    \n",
    "    print(\"Python is \" + x)\n",
    "    \n",
    "my_first_function()\n",
    "\n",
    "print(\"Python is \" +x)"
   ]
  },
  {
   "cell_type": "markdown",
   "metadata": {},
   "source": [
    "### Variable Types \n",
    "\n",
    "Python has a rich assortment of variable types. Some are similar to SQL but a few others are unique to python. We do not need to go over the ones we already know from SQL so lets look at some variable types that appear in python. \n",
    "\n",
    "* x=1j is an example of a complex data type \n",
    "* x=[\"apple\",\"cherry\",\"orange\"] is an example of a list \n",
    "* x=(\"apple\",\"banana\",\"cherry\") is an example of a tuple\n",
    "\n",
    "Wait up. What is the difference between the list and the tuple? The difference is the modification that could be done to them. In python's own lingo, a list is a mutable object, meaning we can alter the entries in the list. A tuple is not a mutable object, meaning we can not alter the entries in a tuple. \n",
    "\n",
    "But what is the point? Lets say you are maintaining a database and need to change someone's address. Addresses would be stored in a list and you could change the specific address based on someone moving or whatnot. You would put things such as account numbers in a tuple so that no one can change the account number values. \n",
    "\n",
    "* x={\"name\" : \"John\", \"age\": 36} is an example of a dictionary \n",
    "\n",
    "The dictionary is a very useful and popular data type. You define a field and value for that field. If you think of it in the terms of tabular data, from the above example the variables \"name\" and \"age\" would be columns and the rows would be \"john\" in the \"name\" column and \"36\" in the age column. \n",
    "\n",
    "### Random Numbers \n",
    "\n",
    "The first built in package we will be using is called \"random.\" Whenever we call upon a package in python, we need to import it into our notebook to use the functions included with said package. The random package allows you to generate random numbers in many interesting ways. Random numbers are used quite often in simulation settings or even games. If you ever played any sort of loot based game, your loot depends on some variation of a random number generator. \n",
    "\n",
    "Once we import a package, we can refer to that package using an alias the same way you re-name a variable in SQL. Lets rename random as rm such that every time we call upon function from that package, we can use the rm alias. This is very similar naming convention when you define tables in a SQL join. You need to use the package alias to tell the program to find a specific function from a specific package. \n",
    "\n",
    "Lets generate a random number between the range 1 and 20. Every time you run the code below, you will get a different value. "
   ]
  },
  {
   "cell_type": "code",
   "execution_count": 36,
   "metadata": {
    "collapsed": false
   },
   "outputs": [
    {
     "name": "stdout",
     "output_type": "stream",
     "text": [
      "8\n"
     ]
    }
   ],
   "source": [
    "import random as rm\n",
    "\n",
    "print(rm.randrange(1, 10))"
   ]
  },
  {
   "cell_type": "markdown",
   "metadata": {},
   "source": [
    "### Slicing \n",
    "\n",
    "There are going to be many situations that require data slicing. For now, lets slice a value by index position. Lets define a string and extract only some parts of the string by slicing. First we can determine the length of our string by using the len function. We can apply len to things such as a dictionary or variable etc. The len counts the number of individual characters in a string, however in python, the number of characters is not the same as the index positions. Index positions start at 0 so really the length os a string in our case is len(x)+1"
   ]
  },
  {
   "cell_type": "code",
   "execution_count": 38,
   "metadata": {
    "collapsed": false
   },
   "outputs": [
    {
     "data": {
      "text/plain": [
       "31"
      ]
     },
     "execution_count": 38,
     "metadata": {},
     "output_type": "execute_result"
    }
   ],
   "source": [
    "x= \"Hello world, how are you today\"\n",
    "\n",
    "len(x)+1"
   ]
  },
  {
   "cell_type": "markdown",
   "metadata": {},
   "source": [
    "Now that we know we have 31 index positions, lets slice the string by some range within the index as follows: "
   ]
  },
  {
   "cell_type": "code",
   "execution_count": 40,
   "metadata": {
    "collapsed": false
   },
   "outputs": [
    {
     "name": "stdout",
     "output_type": "stream",
     "text": [
      "ow are you toda\n"
     ]
    }
   ],
   "source": [
    "print(x[14:29])"
   ]
  },
  {
   "cell_type": "markdown",
   "metadata": {},
   "source": [
    "We can also use negative index to select values from data or a string by counting backwords. This is useful if you do not know the actual number of index positions. You would translate this as give me the string that starts 12 positions from the end and goes to 8 positions from the end. "
   ]
  },
  {
   "cell_type": "code",
   "execution_count": 41,
   "metadata": {
    "collapsed": false
   },
   "outputs": [
    {
     "name": "stdout",
     "output_type": "stream",
     "text": [
      "re y\n"
     ]
    }
   ],
   "source": [
    "print(x[-12:-8])"
   ]
  },
  {
   "cell_type": "markdown",
   "metadata": {},
   "source": [
    "### Operations on Strings \n",
    "\n",
    "Operations on strings are powerful methods that allow you to clean messy text data. These methods might be important for someone who is trying to parse an ad product name from a larger part of a string. "
   ]
  },
  {
   "cell_type": "markdown",
   "metadata": {},
   "source": [
    "Lets strip whitespace from the start and end of a string. There are instances where data is unclean because there is an extra space in front of a string. "
   ]
  },
  {
   "cell_type": "code",
   "execution_count": 42,
   "metadata": {
    "collapsed": false
   },
   "outputs": [
    {
     "name": "stdout",
     "output_type": "stream",
     "text": [
      " Hello World    \n",
      "Hello World\n"
     ]
    }
   ],
   "source": [
    "x=\" Hello World    \"\n",
    "\n",
    "print(x)\n",
    "\n",
    "print(x.strip())"
   ]
  },
  {
   "cell_type": "markdown",
   "metadata": {},
   "source": [
    "Lower allows you to make all letters in a string lowercase. Upper does the converse of lower."
   ]
  },
  {
   "cell_type": "code",
   "execution_count": 44,
   "metadata": {
    "collapsed": false
   },
   "outputs": [
    {
     "name": "stdout",
     "output_type": "stream",
     "text": [
      "HeLLo WoRlD\n",
      "hello world\n",
      "HELLO WORLD\n"
     ]
    }
   ],
   "source": [
    "x= \"HeLLo WoRlD\"\n",
    "\n",
    "print(x)\n",
    "\n",
    "print(x.lower())\n",
    "\n",
    "print(x.upper())"
   ]
  },
  {
   "cell_type": "markdown",
   "metadata": {},
   "source": [
    "Replace allows you to replace a charatcer within a string with another charatcer. Lets replace all H with J. Lets also make everything lower case. "
   ]
  },
  {
   "cell_type": "code",
   "execution_count": 47,
   "metadata": {
    "collapsed": false
   },
   "outputs": [
    {
     "name": "stdout",
     "output_type": "stream",
     "text": [
      "HeLLo WoRlD\n",
      "JeLLo WoRlD\n",
      "jello world\n"
     ]
    }
   ],
   "source": [
    "print(x)\n",
    "\n",
    "print(x.replace(\"H\", \"J\"))\n",
    "\n",
    "print(x.replace(\"H\", \"J\").lower())"
   ]
  },
  {
   "cell_type": "markdown",
   "metadata": {},
   "source": [
    "We will conclude this lesson with splitting a string. This is also a very powerful operator. Lets say you want to split the entries in some data seperated by a dash or pipe:"
   ]
  },
  {
   "cell_type": "code",
   "execution_count": 49,
   "metadata": {
    "collapsed": false
   },
   "outputs": [
    {
     "name": "stdout",
     "output_type": "stream",
     "text": [
      "['Hello', 'world']\n"
     ]
    }
   ],
   "source": [
    "x=\"Hello|world\"\n",
    "\n",
    "print(x.split(\"|\"))"
   ]
  },
  {
   "cell_type": "markdown",
   "metadata": {},
   "source": [
    "for now, your first HW will be to get yourself set up with anaconda. You should be able to launch a jupyter notebook be it on a personal machine or CORP machine. This lesson was based off the w3 school tutorial for python. \n",
    "\n",
    "https://www.w3schools.com/python/"
   ]
  }
 ],
 "metadata": {
  "kernelspec": {
   "display_name": "Python 3",
   "language": "python",
   "name": "python3"
  },
  "language_info": {
   "codemirror_mode": {
    "name": "ipython",
    "version": 3
   },
   "file_extension": ".py",
   "mimetype": "text/x-python",
   "name": "python",
   "nbconvert_exporter": "python",
   "pygments_lexer": "ipython3",
   "version": "3.5.1"
  }
 },
 "nbformat": 4,
 "nbformat_minor": 0
}
